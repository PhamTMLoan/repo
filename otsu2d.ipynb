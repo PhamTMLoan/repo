{
 "cells": [
  {
   "cell_type": "code",
   "execution_count": 1,
   "metadata": {},
   "outputs": [],
   "source": [
    "import numpy as np\n",
    "import cv2\n",
    "from matplotlib import pyplot as plt\n",
    "ima = cv2.imread('apple.jpg')\n",
    "image = cv2.cvtColor(ima,cv2.COLOR_BGR2GRAY)"
   ]
  },
  {
   "cell_type": "code",
   "execution_count": 2,
   "metadata": {},
   "outputs": [],
   "source": [
    "height = image.shape[0]\n",
    "width = image.shape[1]\n",
    "# threshold otsu 2-D method\n",
    "kernel = np.array(((1,1,1),(1,1,1),(1,1,1)))\n",
    "kernel_sum = np.sum(kernel)\n",
    "h_y = kernel.shape[0]\n",
    "w_x = kernel.shape[1]"
   ]
  },
  {
   "cell_type": "code",
   "execution_count": 3,
   "metadata": {},
   "outputs": [],
   "source": [
    "# convolution of image\n",
    "# the gray-mean value of image G_x\n",
    "G_x = np.zeros((height,width))\n",
    "for y in range(height):\n",
    "    for x in range(width):\n",
    "        for k_y in range(-int(h_y/2),h_y-1):\n",
    "            for k_x in range(-int(w_x/2),w_x-1):\n",
    "                pixel = 0\n",
    "                pixel_y = y - k_y\n",
    "                pixel_x = x- k_x\n",
    "                weighted_pixel_sum =0\n",
    "                if (pixel_y >= 0) and (pixel_y < height) and (pixel_x >= 0) and (pixel_x < width):\n",
    "                    pixel = image[pixel_y, pixel_x]\n",
    "                    weight = kernel[k_y + int(h_y/2), k_x + int(w_x/2)]\n",
    "                    weighted_pixel_sum += pixel * weight\n",
    "        G_x[y,x] = weighted_pixel_sum/kernel_sum"
   ]
  },
  {
   "cell_type": "code",
   "execution_count": 4,
   "metadata": {},
   "outputs": [],
   "source": [
    "N = height* width\n",
    "# value of gray- gradient\n",
    "Gray_x = image - G_x\n",
    "hist_cij = np.zeros((256,256))\n",
    "for i in range(height):\n",
    "    for j in range(width):\n",
    "        hist_cij[int(image[i,j]),int(Gray_x[i,j])] += 1.0"
   ]
  },
  {
   "cell_type": "code",
   "execution_count": 5,
   "metadata": {},
   "outputs": [
    {
     "data": {
      "text/plain": [
       "1.0"
      ]
     },
     "execution_count": 5,
     "metadata": {},
     "output_type": "execute_result"
    }
   ],
   "source": [
    "# probability of matrix\n",
    "Pij = hist_cij/N\n",
    "np.sum(Pij)"
   ]
  },
  {
   "cell_type": "code",
   "execution_count": 11,
   "metadata": {},
   "outputs": [],
   "source": [
    "import time\n",
    "start = time.process_time_ns() \n",
    "x = np.arange(256).reshape(256,1)\n",
    "x_s = np.repeat(x,256,axis=1)\n",
    "y = np.arange(256).reshape(1,256)\n",
    "x_t = np.repeat(y,256,axis=0)\n",
    "u11= np.sum(x_s*Pij)\n",
    "u12 = np.sum(x_t*Pij)\n",
    "teta = np.zeros((256,256))\n",
    "for t in range(256):\n",
    "    for s in range(256):\n",
    "        w0 = np.sum(Pij[:t,:s])\n",
    "        wb = np.sum(Pij[t+1:,s+1:])\n",
    "        u01 = np.sum(x_s[:s,:]*Pij[:s,:])\n",
    "        u02 = np.sum(x_t[:,:t]*Pij[:,:t])\n",
    "        ub1 = np.sum(x_s[s+1:,:]*Pij[s+1:,:])\n",
    "        ub2 = np.sum(x_t[:,t+1:]*Pij[:,t+1:])\n",
    "        teta[t,s] = (w0*(np.power((u01-u11),2)+np.power((u02-u12),2)))+ (wb*(np.power((ub1-u11),2)+np.power((ub2-u12),2)))\n",
    "V_max = np.max(teta)\n",
    "threshold = 0\n",
    "for t in range(255):\n",
    "    for s in range(255):\n",
    "        if(teta[t,s]== V_max):\n",
    "            threshold = t\n",
    "threshold\n",
    "end = time.process_time_ns() "
   ]
  },
  {
   "cell_type": "code",
   "execution_count": 9,
   "metadata": {},
   "outputs": [
    {
     "data": {
      "text/plain": [
       "81291089457"
      ]
     },
     "execution_count": 9,
     "metadata": {},
     "output_type": "execute_result"
    }
   ],
   "source": [
    "end"
   ]
  },
  {
   "cell_type": "code",
   "execution_count": null,
   "metadata": {},
   "outputs": [],
   "source": []
  }
 ],
 "metadata": {
  "kernelspec": {
   "display_name": "image",
   "language": "python",
   "name": "image"
  },
  "language_info": {
   "codemirror_mode": {
    "name": "ipython",
    "version": 3
   },
   "file_extension": ".py",
   "mimetype": "text/x-python",
   "name": "python",
   "nbconvert_exporter": "python",
   "pygments_lexer": "ipython3",
   "version": "3.8.0"
  }
 },
 "nbformat": 4,
 "nbformat_minor": 2
}
